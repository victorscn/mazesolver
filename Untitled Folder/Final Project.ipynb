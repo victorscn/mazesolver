{
 "cells": [
  {
   "cell_type": "raw",
   "metadata": {},
   "source": [
    "\n",
    "Resultados para o algoritmo Flood Fill one-step:\n",
    "test_maze_01: 44.900\n",
    "Imagem\n",
    "\n",
    "test_maze_02: 50.267\n",
    "Imagem\n",
    "\n",
    "test_maze_03: 57.533\n",
    "Imagem\n",
    "\n",
    "Resultados para o algoritmo Flood Fill tree-step:\n",
    "test_maze_01: 46.933\n",
    "Imagem\n",
    "\n",
    "test_maze_02: 56.567\n",
    "Imagem\n",
    "\n",
    "test_maze_03: 56.767\n"
   ]
  }
 ],
 "metadata": {
  "kernelspec": {
   "display_name": "Python 3",
   "language": "python",
   "name": "python3"
  },
  "language_info": {
   "codemirror_mode": {
    "name": "ipython",
    "version": 3
   },
   "file_extension": ".py",
   "mimetype": "text/x-python",
   "name": "python",
   "nbconvert_exporter": "python",
   "pygments_lexer": "ipython3",
   "version": "3.6.1"
  }
 },
 "nbformat": 4,
 "nbformat_minor": 2
}
