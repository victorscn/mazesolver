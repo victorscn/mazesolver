{
 "cells": [
  {
   "cell_type": "raw",
   "metadata": {},
   "source": [
    "Resultados para o algoritmo fill-flood one-step:\n",
    "test_maze_1: 44.900\n",
    "test_maze_2: 50.267\n",
    "test_maze_3: 57.533"
   ]
  }
 ],
 "metadata": {
  "kernelspec": {
   "display_name": "Python 2",
   "language": "python",
   "name": "python2"
  },
  "language_info": {
   "codemirror_mode": {
    "name": "ipython",
    "version": 2
   },
   "file_extension": ".py",
   "mimetype": "text/x-python",
   "name": "python",
   "nbconvert_exporter": "python",
   "pygments_lexer": "ipython2",
   "version": "2.7.13"
  }
 },
 "nbformat": 4,
 "nbformat_minor": 2
}
